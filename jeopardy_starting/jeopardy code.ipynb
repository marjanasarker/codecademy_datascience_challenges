{
 "cells": [
  {
   "cell_type": "code",
   "execution_count": 11,
   "metadata": {},
   "outputs": [],
   "source": [
    "import pandas as pd\n",
    "#Changing column width to fit everything, doesn't take negative integers\n",
    "pd.set_option('display.max_colwidth', 10)"
   ]
  },
  {
   "cell_type": "code",
   "execution_count": 12,
   "metadata": {},
   "outputs": [],
   "source": [
    "#building a dataframe\n",
    "jeopardy_df = pd.read_csv(\"jeopardy.csv\")"
   ]
  },
  {
   "cell_type": "code",
   "execution_count": 13,
   "metadata": {},
   "outputs": [
    {
     "name": "stdout",
     "output_type": "stream",
     "text": [
      "   Show Number   Air Date      Round   Category  Value   Question     Answer\n",
      "0       4680    2004-1...  Jeopardy!    HISTORY   $200  For th...  Copern...\n",
      "1       4680    2004-1...  Jeopardy!  ESPN's...   $200  No. 2:...  Jim Th...\n",
      "2       4680    2004-1...  Jeopardy!  EVERYB...   $200  The ci...    Arizona\n",
      "3       4680    2004-1...  Jeopardy!  THE CO...   $200  In 196...  McDona...\n",
      "4       4680    2004-1...  Jeopardy!  EPITAP...   $200  Signer...  John A...\n"
     ]
    }
   ],
   "source": [
    "print(jeopardy_df.head(5))"
   ]
  },
  {
   "cell_type": "code",
   "execution_count": null,
   "metadata": {},
   "outputs": [],
   "source": []
  }
 ],
 "metadata": {
  "kernelspec": {
   "display_name": "Python 3",
   "language": "python",
   "name": "python3"
  },
  "language_info": {
   "codemirror_mode": {
    "name": "ipython",
    "version": 3
   },
   "file_extension": ".py",
   "mimetype": "text/x-python",
   "name": "python",
   "nbconvert_exporter": "python",
   "pygments_lexer": "ipython3",
   "version": "3.7.6"
  }
 },
 "nbformat": 4,
 "nbformat_minor": 4
}
