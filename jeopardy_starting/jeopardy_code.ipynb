{
 "cells": [
  {
   "cell_type": "code",
   "execution_count": 117,
   "metadata": {},
   "outputs": [],
   "source": [
    "import pandas as pd\n",
    "#Changing column width to fit everything, doesn't take negative integers\n",
    "pd.set_option('display.max_colwidth', 10)"
   ]
  },
  {
   "cell_type": "code",
   "execution_count": 118,
   "metadata": {},
   "outputs": [],
   "source": [
    "#building a dataframe\n",
    "jeopardy_df = pd.read_csv(\"jeopardy.csv\")"
   ]
  },
  {
   "cell_type": "code",
   "execution_count": 119,
   "metadata": {},
   "outputs": [
    {
     "name": "stdout",
     "output_type": "stream",
     "text": [
      "   Show Number   Air Date      Round   Category  Value   Question     Answer\n",
      "0       4680    2004-1...  Jeopardy!    HISTORY   $200  For th...  Copern...\n",
      "1       4680    2004-1...  Jeopardy!  ESPN's...   $200  No. 2:...  Jim Th...\n",
      "2       4680    2004-1...  Jeopardy!  EVERYB...   $200  The ci...    Arizona\n",
      "3       4680    2004-1...  Jeopardy!  THE CO...   $200  In 196...  McDona...\n",
      "4       4680    2004-1...  Jeopardy!  EPITAP...   $200  Signer...  John A...\n"
     ]
    }
   ],
   "source": [
    "print(jeopardy_df.head(5))"
   ]
  },
  {
   "cell_type": "code",
   "execution_count": 120,
   "metadata": {},
   "outputs": [
    {
     "name": "stdout",
     "output_type": "stream",
     "text": [
      "Index(['Show Number', ' Air Date', ' Round', ' Category', ' Value',\n",
      "       ' Question', ' Answer'],\n",
      "      dtype='object')\n",
      "216930\n"
     ]
    }
   ],
   "source": [
    "#print out column containing the question of each row in dataset \n",
    "#this function should take in a list of words \n",
    "#return rows in Question column that includes those words \n",
    "print(jeopardy_df.columns)\n",
    "print(len(jeopardy_df))"
   ]
  },
  {
   "cell_type": "code",
   "execution_count": 121,
   "metadata": {},
   "outputs": [],
   "source": [
    "#renaming columns to fix these strings\n",
    "jeopardy_df=jeopardy_df.rename(columns={'Show Number': 'Show_Number', ' Air Date': 'Air_Date', ' Round': 'Round', ' Category': 'Category', ' Value': 'Value', ' Question': 'Question', ' Answer':'Answer'})"
   ]
  },
  {
   "cell_type": "code",
   "execution_count": 122,
   "metadata": {},
   "outputs": [
    {
     "name": "stdout",
     "output_type": "stream",
     "text": [
      "Index(['Show_Number', 'Air_Date', 'Round', 'Category', 'Value', 'Question',\n",
      "       'Answer'],\n",
      "      dtype='object')\n"
     ]
    }
   ],
   "source": [
    "print(jeopardy_df.columns)"
   ]
  },
  {
   "cell_type": "code",
   "execution_count": 123,
   "metadata": {},
   "outputs": [
    {
     "name": "stdout",
     "output_type": "stream",
     "text": [
      "0    For th...\n",
      "1    No. 2:...\n",
      "Name: Question, dtype: object\n"
     ]
    }
   ],
   "source": [
    "print(jeopardy_df[\"Question\"].head(2))"
   ]
  },
  {
   "cell_type": "code",
   "execution_count": 124,
   "metadata": {},
   "outputs": [
    {
     "data": {
      "text/html": [
       "<div>\n",
       "<style scoped>\n",
       "    .dataframe tbody tr th:only-of-type {\n",
       "        vertical-align: middle;\n",
       "    }\n",
       "\n",
       "    .dataframe tbody tr th {\n",
       "        vertical-align: top;\n",
       "    }\n",
       "\n",
       "    .dataframe thead th {\n",
       "        text-align: right;\n",
       "    }\n",
       "</style>\n",
       "<table border=\"1\" class=\"dataframe\">\n",
       "  <thead>\n",
       "    <tr style=\"text-align: right;\">\n",
       "      <th></th>\n",
       "      <th>Show_Number</th>\n",
       "      <th>Air_Date</th>\n",
       "      <th>Round</th>\n",
       "      <th>Category</th>\n",
       "      <th>Value</th>\n",
       "      <th>Question</th>\n",
       "      <th>Answer</th>\n",
       "    </tr>\n",
       "  </thead>\n",
       "  <tbody>\n",
       "    <tr>\n",
       "      <th>94817</th>\n",
       "      <td>4346</td>\n",
       "      <td>2003-0...</td>\n",
       "      <td>Jeopardy!</td>\n",
       "      <td>GOING ...</td>\n",
       "      <td>$200</td>\n",
       "      <td>It oft...</td>\n",
       "      <td>NaN</td>\n",
       "    </tr>\n",
       "    <tr>\n",
       "      <th>143297</th>\n",
       "      <td>6177</td>\n",
       "      <td>2011-0...</td>\n",
       "      <td>Double...</td>\n",
       "      <td>NOTHING</td>\n",
       "      <td>$400</td>\n",
       "      <td>This w...</td>\n",
       "      <td>NaN</td>\n",
       "    </tr>\n",
       "  </tbody>\n",
       "</table>\n",
       "</div>"
      ],
      "text/plain": [
       "        Show_Number   Air_Date      Round   Category Value   Question Answer\n",
       "94817        4346    2003-0...  Jeopardy!  GOING ...  $200  It oft...    NaN\n",
       "143297       6177    2011-0...  Double...    NOTHING  $400  This w...    NaN"
      ]
     },
     "execution_count": 124,
     "metadata": {},
     "output_type": "execute_result"
    }
   ],
   "source": [
    "#check if there are null values in df\n",
    "#jeopardy_df.isnull().sum()\n",
    "jeopardy_df[jeopardy_df.isnull().any(axis=1)]    \n",
    "        "
   ]
  },
  {
   "cell_type": "code",
   "execution_count": 125,
   "metadata": {},
   "outputs": [],
   "source": [
    "#changing question column from strings to list\n",
    "# first perhaps change \"Question\" from obj to string?\n",
    "#jeopardy_df.Question=jeopardy_df.Question.astype('string')\n",
    "\n"
   ]
  },
  {
   "cell_type": "code",
   "execution_count": 126,
   "metadata": {},
   "outputs": [
    {
     "name": "stdout",
     "output_type": "stream",
     "text": [
      "<class 'pandas.core.frame.DataFrame'>\n",
      "RangeIndex: 216930 entries, 0 to 216929\n",
      "Data columns (total 7 columns):\n",
      " #   Column       Non-Null Count   Dtype \n",
      "---  ------       --------------   ----- \n",
      " 0   Show_Number  216930 non-null  int64 \n",
      " 1   Air_Date     216930 non-null  object\n",
      " 2   Round        216930 non-null  object\n",
      " 3   Category     216930 non-null  object\n",
      " 4   Value        216930 non-null  object\n",
      " 5   Question     216930 non-null  object\n",
      " 6   Answer       216928 non-null  object\n",
      "dtypes: int64(1), object(6)\n",
      "memory usage: 11.6+ MB\n"
     ]
    }
   ],
   "source": [
    "jeopardy_df.info()"
   ]
  },
  {
   "cell_type": "code",
   "execution_count": 127,
   "metadata": {},
   "outputs": [],
   "source": [
    "# changing the string to a list of words for Question column\n",
    "#jeopardy_df['Question']=jeopardy_df.Question.apply(lambda x: x.split(' '))"
   ]
  },
  {
   "cell_type": "code",
   "execution_count": 128,
   "metadata": {},
   "outputs": [
    {
     "data": {
      "text/plain": [
       "0          $200\n",
       "1          $200\n",
       "2          $200\n",
       "3          $200\n",
       "4          $200\n",
       "          ...  \n",
       "216925    $2000\n",
       "216926    $2000\n",
       "216927    $2000\n",
       "216928    $2000\n",
       "216929     None\n",
       "Name: Value, Length: 216930, dtype: object"
      ]
     },
     "execution_count": 128,
     "metadata": {},
     "output_type": "execute_result"
    }
   ],
   "source": [
    "jeopardy_df.Value"
   ]
  },
  {
   "cell_type": "code",
   "execution_count": 129,
   "metadata": {},
   "outputs": [
    {
     "data": {
      "text/html": [
       "<div>\n",
       "<style scoped>\n",
       "    .dataframe tbody tr th:only-of-type {\n",
       "        vertical-align: middle;\n",
       "    }\n",
       "\n",
       "    .dataframe tbody tr th {\n",
       "        vertical-align: top;\n",
       "    }\n",
       "\n",
       "    .dataframe thead th {\n",
       "        text-align: right;\n",
       "    }\n",
       "</style>\n",
       "<table border=\"1\" class=\"dataframe\">\n",
       "  <thead>\n",
       "    <tr style=\"text-align: right;\">\n",
       "      <th></th>\n",
       "      <th>Show_Number</th>\n",
       "      <th>Air_Date</th>\n",
       "      <th>Round</th>\n",
       "      <th>Category</th>\n",
       "      <th>Value</th>\n",
       "      <th>Question</th>\n",
       "      <th>Answer</th>\n",
       "    </tr>\n",
       "  </thead>\n",
       "  <tbody>\n",
       "    <tr>\n",
       "      <th>4953</th>\n",
       "      <td>3003</td>\n",
       "      <td>1997-0...</td>\n",
       "      <td>Double...</td>\n",
       "      <td>\"PH\"UN...</td>\n",
       "      <td>$200</td>\n",
       "      <td>Both E...</td>\n",
       "      <td>Philat...</td>\n",
       "    </tr>\n",
       "    <tr>\n",
       "      <th>6337</th>\n",
       "      <td>3517</td>\n",
       "      <td>1999-1...</td>\n",
       "      <td>Double...</td>\n",
       "      <td>Y1K</td>\n",
       "      <td>$800</td>\n",
       "      <td>In ret...</td>\n",
       "      <td>Ethelred</td>\n",
       "    </tr>\n",
       "    <tr>\n",
       "      <th>9191</th>\n",
       "      <td>3907</td>\n",
       "      <td>2001-0...</td>\n",
       "      <td>Double...</td>\n",
       "      <td>WON TH...</td>\n",
       "      <td>$800</td>\n",
       "      <td>This k...</td>\n",
       "      <td>Henry V</td>\n",
       "    </tr>\n",
       "    <tr>\n",
       "      <th>11710</th>\n",
       "      <td>2903</td>\n",
       "      <td>1997-0...</td>\n",
       "      <td>Double...</td>\n",
       "      <td>BRITIS...</td>\n",
       "      <td>$600</td>\n",
       "      <td>This S...</td>\n",
       "      <td>James I</td>\n",
       "    </tr>\n",
       "    <tr>\n",
       "      <th>13454</th>\n",
       "      <td>4726</td>\n",
       "      <td>2005-0...</td>\n",
       "      <td>Jeopardy!</td>\n",
       "      <td>A NUMB...</td>\n",
       "      <td>$1000</td>\n",
       "      <td>It's t...</td>\n",
       "      <td>4</td>\n",
       "    </tr>\n",
       "    <tr>\n",
       "      <th>...</th>\n",
       "      <td>...</td>\n",
       "      <td>...</td>\n",
       "      <td>...</td>\n",
       "      <td>...</td>\n",
       "      <td>...</td>\n",
       "      <td>...</td>\n",
       "      <td>...</td>\n",
       "    </tr>\n",
       "    <tr>\n",
       "      <th>208295</th>\n",
       "      <td>4621</td>\n",
       "      <td>2004-1...</td>\n",
       "      <td>Jeopardy!</td>\n",
       "      <td>THE VI...</td>\n",
       "      <td>$600</td>\n",
       "      <td>In 106...</td>\n",
       "      <td>Willia...</td>\n",
       "    </tr>\n",
       "    <tr>\n",
       "      <th>208742</th>\n",
       "      <td>4863</td>\n",
       "      <td>2005-1...</td>\n",
       "      <td>Double...</td>\n",
       "      <td>BEFORE...</td>\n",
       "      <td>$3,000</td>\n",
       "      <td>Dutch-...</td>\n",
       "      <td>Willia...</td>\n",
       "    </tr>\n",
       "    <tr>\n",
       "      <th>213870</th>\n",
       "      <td>5856</td>\n",
       "      <td>2010-0...</td>\n",
       "      <td>Double...</td>\n",
       "      <td>URANUS</td>\n",
       "      <td>$1600</td>\n",
       "      <td>In 178...</td>\n",
       "      <td>George...</td>\n",
       "    </tr>\n",
       "    <tr>\n",
       "      <th>216021</th>\n",
       "      <td>1881</td>\n",
       "      <td>1992-1...</td>\n",
       "      <td>Double...</td>\n",
       "      <td>HISTOR...</td>\n",
       "      <td>$1000</td>\n",
       "      <td>His ni...</td>\n",
       "      <td>Edward...</td>\n",
       "    </tr>\n",
       "    <tr>\n",
       "      <th>216789</th>\n",
       "      <td>5070</td>\n",
       "      <td>2006-0...</td>\n",
       "      <td>Double...</td>\n",
       "      <td>ANCIEN...</td>\n",
       "      <td>$1200</td>\n",
       "      <td>This k...</td>\n",
       "      <td>Wessex</td>\n",
       "    </tr>\n",
       "  </tbody>\n",
       "</table>\n",
       "<p>152 rows × 7 columns</p>\n",
       "</div>"
      ],
      "text/plain": [
       "        Show_Number   Air_Date      Round   Category   Value   Question  \\\n",
       "4953         3003    1997-0...  Double...  \"PH\"UN...    $200  Both E...   \n",
       "6337         3517    1999-1...  Double...        Y1K    $800  In ret...   \n",
       "9191         3907    2001-0...  Double...  WON TH...    $800  This k...   \n",
       "11710        2903    1997-0...  Double...  BRITIS...    $600  This S...   \n",
       "13454        4726    2005-0...  Jeopardy!  A NUMB...   $1000  It's t...   \n",
       "...           ...          ...        ...        ...     ...        ...   \n",
       "208295       4621    2004-1...  Jeopardy!  THE VI...    $600  In 106...   \n",
       "208742       4863    2005-1...  Double...  BEFORE...  $3,000  Dutch-...   \n",
       "213870       5856    2010-0...  Double...     URANUS   $1600  In 178...   \n",
       "216021       1881    1992-1...  Double...  HISTOR...   $1000  His ni...   \n",
       "216789       5070    2006-0...  Double...  ANCIEN...   $1200  This k...   \n",
       "\n",
       "           Answer  \n",
       "4953    Philat...  \n",
       "6337     Ethelred  \n",
       "9191      Henry V  \n",
       "11710     James I  \n",
       "13454           4  \n",
       "...           ...  \n",
       "208295  Willia...  \n",
       "208742  Willia...  \n",
       "213870  George...  \n",
       "216021  Edward...  \n",
       "216789     Wessex  \n",
       "\n",
       "[152 rows x 7 columns]"
      ]
     },
     "execution_count": 129,
     "metadata": {},
     "output_type": "execute_result"
    }
   ],
   "source": [
    "# use pandas iterrows to go over each row and check whether ['King', 'England'] is a subset of Question row\n",
    "# we can use built in all() method for this \n",
    "# change everything to lower case\n",
    "# have to use regex for each word to also include apostrophe s \n",
    "# use df.loc to return only rows with certain conditions\n",
    "#sample_list = ['King', 'England']\n",
    "\n",
    "def filter_data(data, list_words):\n",
    "    \n",
    "    #sample_list_lower = [x.lower() for x in list_words]\n",
    "    #list_index = []\n",
    "    #lower_case_question= [x.lower() for x in row['Question']]\n",
    "    filtered = lambda x: all(word.lower() in x.lower() for word in list_words)\n",
    "    return jeopardy_df.loc[jeopardy_df['Question'].apply(filtered)]\n",
    "    #print(len(list_index))\n",
    "    #print(sample_list_lower)\n",
    "filter_data(jeopardy_df, ['King', 'England'])"
   ]
  },
  {
   "cell_type": "code",
   "execution_count": 130,
   "metadata": {},
   "outputs": [],
   "source": [
    "# changing the value column from object to float\n",
    "# first will need to replace \n",
    "#jeopardy_df.Value=jeopardy_df.Value.astype('string')\n",
    "#jeopardy_df['Value']=jeopardy_df['Value'].str.replace(r'\\D','')\n",
    "#creating new column to hold float Values\n",
    "# if none exist, fill with 0 \n",
    "jeopardy_df[\"Float Value\"] = jeopardy_df[\"Value\"].apply(lambda x: float(x[1:].replace(',','')) if x != \"None\" else 0)\n",
    "#jeopardy_df.columns"
   ]
  },
  {
   "cell_type": "code",
   "execution_count": 131,
   "metadata": {},
   "outputs": [
    {
     "name": "stdout",
     "output_type": "stream",
     "text": [
      "<class 'pandas.core.frame.DataFrame'>\n",
      "RangeIndex: 216930 entries, 0 to 216929\n",
      "Data columns (total 8 columns):\n",
      " #   Column       Non-Null Count   Dtype  \n",
      "---  ------       --------------   -----  \n",
      " 0   Show_Number  216930 non-null  int64  \n",
      " 1   Air_Date     216930 non-null  object \n",
      " 2   Round        216930 non-null  object \n",
      " 3   Category     216930 non-null  object \n",
      " 4   Value        216930 non-null  object \n",
      " 5   Question     216930 non-null  object \n",
      " 6   Answer       216928 non-null  object \n",
      " 7   Float Value  216930 non-null  float64\n",
      "dtypes: float64(1), int64(1), object(6)\n",
      "memory usage: 13.2+ MB\n"
     ]
    }
   ],
   "source": [
    "jeopardy_df.info()"
   ]
  },
  {
   "cell_type": "code",
   "execution_count": 132,
   "metadata": {},
   "outputs": [
    {
     "data": {
      "text/plain": [
       "771.8833850722094"
      ]
     },
     "execution_count": 132,
     "metadata": {},
     "output_type": "execute_result"
    }
   ],
   "source": [
    "#using filter_data function to filter out king an find avg value of questions that have king\n",
    "new_filter = filter_data(jeopardy_df, ['King'])\n",
    "new_filter['Float Value'].mean()"
   ]
  },
  {
   "cell_type": "code",
   "execution_count": 140,
   "metadata": {},
   "outputs": [
    {
     "data": {
      "text/plain": [
       "5268"
      ]
     },
     "execution_count": 140,
     "metadata": {},
     "output_type": "execute_result"
    }
   ],
   "source": [
    "unique_answer=new_filter['Answer'].unique()\n",
    "len(unique_answer)"
   ]
  },
  {
   "cell_type": "code",
   "execution_count": 141,
   "metadata": {},
   "outputs": [
    {
     "name": "stdout",
     "output_type": "stream",
     "text": [
      "Henry VIII                   55\n",
      "Solomon                      35\n",
      "Richard III                  33\n",
      "Louis XIV                    31\n",
      "David                        30\n",
      "                             ..\n",
      "Ice Cream                     1\n",
      "A Dagger                      1\n",
      "The Cider House Rules         1\n",
      "the Red Hot Chili Peppers     1\n",
      "the Spanish Inquisition       1\n",
      "Name: Answer, Length: 5268, dtype: int64\n"
     ]
    }
   ],
   "source": [
    "# A function to find the unique answers of a set of data\n",
    "def get_answer_counts(data):\n",
    "    return data[\"Answer\"].value_counts()\n",
    "\n",
    "# Testing the answer count function\n",
    "print(get_answer_counts(new_filter))"
   ]
  },
  {
   "cell_type": "code",
   "execution_count": null,
   "metadata": {},
   "outputs": [],
   "source": []
  }
 ],
 "metadata": {
  "kernelspec": {
   "display_name": "Python 3",
   "language": "python",
   "name": "python3"
  },
  "language_info": {
   "codemirror_mode": {
    "name": "ipython",
    "version": 3
   },
   "file_extension": ".py",
   "mimetype": "text/x-python",
   "name": "python",
   "nbconvert_exporter": "python",
   "pygments_lexer": "ipython3",
   "version": "3.7.6"
  }
 },
 "nbformat": 4,
 "nbformat_minor": 4
}
