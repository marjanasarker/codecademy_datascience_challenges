{
 "cells": [
  {
   "cell_type": "markdown",
   "metadata": {},
   "source": [
    "# U.S. Medical Insurance Costs"
   ]
  },
  {
   "cell_type": "code",
   "execution_count": 14,
   "metadata": {},
   "outputs": [
    {
     "name": "stdout",
     "output_type": "stream",
     "text": [
      "Average age of patients in dataset: 39.21.\n",
      "Average age of patients with at least one child: 39.78.\n"
     ]
    }
   ],
   "source": [
    "# read csv and extract rows\n",
    "# need to set up game plan on what functions will be included\n",
    "# average age of patients\n",
    "# where do the majority of the individuals come from --> dictionary\n",
    "# average age for people with at least 1 child - so everyone with more than 0 children?\n",
    "# need to add functions for each analysis\n",
    "import csv\n",
    "\n",
    "with open('insurance.csv') as insurance_data:\n",
    "    read_data=csv.DictReader(insurance_data)\n",
    "    no_of_rows=0\n",
    "    sum_of_ages=0\n",
    "    cost_for_smoker=0\n",
    "    age_of_child_people=0\n",
    "    no_with_child=0\n",
    "    for row in read_data:\n",
    "        no_of_rows+=1\n",
    "        sum_of_ages+=int(row['age'])\n",
    "        if int(row['children'])>0:\n",
    "            age_of_child_people+=int(row['age'])\n",
    "            no_with_child+=1\n",
    "    avg_age=round(sum_of_ages/no_of_rows, 2)\n",
    "    avg_age_child_people = round(age_of_child_people/no_with_child, 2)\n",
    "    print(\"Average age of patients in dataset: {avg_age}.\".format(avg_age=avg_age))\n",
    "    print(\"Average age of patients with at least one child: {avg_age_child_people}.\".format(avg_age_child_people=avg_age_child_people))"
   ]
  },
  {
   "cell_type": "code",
   "execution_count": null,
   "metadata": {},
   "outputs": [],
   "source": []
  }
 ],
 "metadata": {
  "kernelspec": {
   "display_name": "Python 3",
   "language": "python",
   "name": "python3"
  },
  "language_info": {
   "codemirror_mode": {
    "name": "ipython",
    "version": 3
   },
   "file_extension": ".py",
   "mimetype": "text/x-python",
   "name": "python",
   "nbconvert_exporter": "python",
   "pygments_lexer": "ipython3",
   "version": "3.7.6"
  }
 },
 "nbformat": 4,
 "nbformat_minor": 4
}
