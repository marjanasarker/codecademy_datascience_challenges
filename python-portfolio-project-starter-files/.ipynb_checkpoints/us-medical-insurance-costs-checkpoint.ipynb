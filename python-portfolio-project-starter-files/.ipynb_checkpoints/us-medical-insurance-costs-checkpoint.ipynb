{
 "cells": [
  {
   "cell_type": "markdown",
   "metadata": {},
   "source": [
    "# U.S. Medical Insurance Costs"
   ]
  },
  {
   "cell_type": "code",
   "execution_count": 7,
   "metadata": {},
   "outputs": [],
   "source": [
    "# read csv and extract rows\n",
    "# need to set up game plan on what functions will be included\n",
    "# average age of patients\n",
    "# where do the majority of the individuals come from --> dictionary\n",
    "# average age for people with at least 1 child - so everyone with more than 0 children?\n",
    "# need to add functions for each analysis\n",
    "import csv\n",
    "\n",
    "with open('insurance.csv') as insurance_data:\n",
    "    read_data=csv.DictReader(insurance_data)\n",
    "    insurance_data_dict = {}\n",
    "    no_rows = 0\n",
    "    #generating an ordered dictionary\n",
    "    #the order the items are inserted is remembered by OrderedDict\n",
    "    for row in read_data:\n",
    "        insurance_data_dict[no_rows]=row\n",
    "        no_rows+=1\n",
    "#print(insurance_data_dict)"
   ]
  },
  {
   "cell_type": "code",
   "execution_count": 13,
   "metadata": {},
   "outputs": [],
   "source": [
    "# function converting string to float - use for bmi and insurance charges\n",
    "def string_to_float(dict, key):\n",
    "    for data in dict.values():\n",
    "        #print('Aloha')\n",
    "        #print(data)\n",
    "        item = data[key]\n",
    "        #print(item)\n",
    "        converted_float = float(item)\n",
    "        data[key]=converted_float\n",
    "\n",
    "string_to_float(insurance_data_dict, 'bmi')\n",
    "string_to_float(insurance_data_dict, 'charges')\n",
    "\n",
    "#functionn converting string to integer - use for age and children\n",
    "def string_to_int(dict, key):\n",
    "    for data in dict.values():\n",
    "        item=data[key]\n",
    "        converted_int=int(item)\n",
    "        data[key]=converted_int\n",
    "\n",
    "string_to_int(insurance_data_dict, 'age')\n",
    "string_to_int(insurance_data_dict, 'children')"
   ]
  },
  {
   "cell_type": "code",
   "execution_count": 17,
   "metadata": {},
   "outputs": [
    {
     "name": "stdout",
     "output_type": "stream",
     "text": [
      "Max children: 5\n"
     ]
    }
   ],
   "source": [
    "# function to find max value\n",
    "def max_value(dict, key):\n",
    "    max = 0\n",
    "    for data in dict.values():\n",
    "        value = data[key]\n",
    "        if value > max:\n",
    "            max=value\n",
    "    print(\"Max {key}: {max}\".format(key=key, max=max))\n",
    "max_value(insurance_data_dict, 'children')\n",
    "        \n",
    "        "
   ]
  },
  {
   "cell_type": "code",
   "execution_count": 29,
   "metadata": {},
   "outputs": [],
   "source": [
    "# setting up separate dictionary of folks who don't have children\n",
    "# use a function that takes 0 children as input \n",
    "def create_dict(dict, key, criteria):\n",
    "    #making another ordered dictionary\n",
    "    new_dict = {}\n",
    "    index=0\n",
    "    for data in dict.values():\n",
    "        value = data[key]\n",
    "        if value == criteria:\n",
    "            new_dict[index]=data\n",
    "            index+=1\n",
    "    #print(\"No. of entries: {index}\".format(index=index))\n",
    "    return new_dict\n",
    "zero_children = create_dict(insurance_data_dict, 'children', 0)\n"
   ]
  },
  {
   "cell_type": "code",
   "execution_count": null,
   "metadata": {},
   "outputs": [],
   "source": []
  }
 ],
 "metadata": {
  "kernelspec": {
   "display_name": "Python 3",
   "language": "python",
   "name": "python3"
  },
  "language_info": {
   "codemirror_mode": {
    "name": "ipython",
    "version": 3
   },
   "file_extension": ".py",
   "mimetype": "text/x-python",
   "name": "python",
   "nbconvert_exporter": "python",
   "pygments_lexer": "ipython3",
   "version": "3.7.6"
  }
 },
 "nbformat": 4,
 "nbformat_minor": 4
}
