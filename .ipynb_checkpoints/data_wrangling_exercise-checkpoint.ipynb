{
 "cells": [
  {
   "cell_type": "code",
   "execution_count": 1,
   "metadata": {},
   "outputs": [],
   "source": [
    "import pandas as pd"
   ]
  },
  {
   "cell_type": "code",
   "execution_count": 3,
   "metadata": {},
   "outputs": [],
   "source": [
    "#reading the restaurant csv file\n",
    "restaurants = pd.read_csv(\"DOHMH_New_York_City_Restaurant_Inspection_Results.csv\")"
   ]
  },
  {
   "cell_type": "code",
   "execution_count": 4,
   "metadata": {},
   "outputs": [
    {
     "name": "stdout",
     "output_type": "stream",
     "text": [
      "      CAMIS              DBA       BORO BUILDING            STREET  ZIPCODE  \\\n",
      "0  50005457     BIRCH COFFEE  Manhattan       62    MADISON AVENUE  10016.0   \n",
      "1  41696163  SHESHE PIZZERIA  Manhattan      961   COLUMBUS AVENUE  10025.0   \n",
      "2  50071467          TGA NYC  Manhattan      320  WEST   36 STREET  10018.0   \n",
      "3  50000500        STARBUCKS  Manhattan      625          8 AVENUE  10018.0   \n",
      "4  50089476     TACOS AZTECA      Bronx      537  EAST  184 STREET  10458.0   \n",
      "\n",
      "        PHONE CUISINE DESCRIPTION INSPECTION DATE  \\\n",
      "0  6096101637          Coffee/Tea      03/17/2017   \n",
      "1  2122227201               Pizza      04/19/2018   \n",
      "2  2126514842            American      09/20/2019   \n",
      "3  2122739613          Coffee/Tea      11/22/2019   \n",
      "4  3476456233             Tex-Mex      04/01/2019   \n",
      "\n",
      "                                            ACTION  ... RECORD DATE  \\\n",
      "0  Violations were cited in the following area(s).  ...  10/12/2021   \n",
      "1  Violations were cited in the following area(s).  ...  10/12/2021   \n",
      "2  Violations were cited in the following area(s).  ...  10/12/2021   \n",
      "3  Violations were cited in the following area(s).  ...  10/12/2021   \n",
      "4  Violations were cited in the following area(s).  ...  10/12/2021   \n",
      "\n",
      "                                     INSPECTION TYPE   Latitude  Longitude  \\\n",
      "0              Cycle Inspection / Initial Inspection  40.743479 -73.986088   \n",
      "1                   Cycle Inspection / Re-inspection  40.800049 -73.962259   \n",
      "2              Cycle Inspection / Initial Inspection  40.753817 -73.993362   \n",
      "3              Cycle Inspection / Initial Inspection  40.756185 -73.990565   \n",
      "4  Pre-permit (Non-operational) / Initial Inspection  40.855033 -73.891014   \n",
      "\n",
      "  Community Board Council District Census Tract        BIN           BBL   NTA  \n",
      "0           105.0              2.0       5600.0  1016887.0  1.008570e+09  MN13  \n",
      "1           107.0              7.0      19300.0  1055676.0  1.018430e+09  MN09  \n",
      "2           104.0              3.0      11100.0  1090332.0  1.007590e+09  MN13  \n",
      "3           104.0              3.0      11500.0  1083268.0  1.010320e+09  MN15  \n",
      "4           206.0             15.0      38500.0  2011605.0  2.030520e+09  BX01  \n",
      "\n",
      "[5 rows x 26 columns]\n"
     ]
    }
   ],
   "source": [
    "#print out first five rows\n",
    "print(restaurants.head(5))"
   ]
  },
  {
   "cell_type": "code",
   "execution_count": 5,
   "metadata": {},
   "outputs": [
    {
     "name": "stdout",
     "output_type": "stream",
     "text": [
      "(382752, 26)\n"
     ]
    }
   ],
   "source": [
    "print(restaurants.shape)"
   ]
  },
  {
   "cell_type": "code",
   "execution_count": 6,
   "metadata": {},
   "outputs": [],
   "source": [
    "# dropping duplicates from file \n",
    "restaurants=restaurants.drop_duplicates()"
   ]
  },
  {
   "cell_type": "code",
   "execution_count": 7,
   "metadata": {},
   "outputs": [
    {
     "name": "stdout",
     "output_type": "stream",
     "text": [
      "(360184, 26)\n"
     ]
    }
   ],
   "source": [
    "print(restaurants.shape)"
   ]
  },
  {
   "cell_type": "code",
   "execution_count": 8,
   "metadata": {},
   "outputs": [],
   "source": [
    "#make all columns lower case\n",
    "restaurants.columns=map(str.lower, restaurants.columns)"
   ]
  },
  {
   "cell_type": "code",
   "execution_count": 9,
   "metadata": {},
   "outputs": [
    {
     "name": "stdout",
     "output_type": "stream",
     "text": [
      "Index(['camis', 'dba', 'boro', 'building', 'street', 'zipcode', 'phone',\n",
      "       'cuisine description', 'inspection date', 'action', 'violation code',\n",
      "       'violation description', 'critical flag', 'score', 'grade',\n",
      "       'grade date', 'record date', 'inspection type', 'latitude', 'longitude',\n",
      "       'community board', 'council district', 'census tract', 'bin', 'bbl',\n",
      "       'nta'],\n",
      "      dtype='object')\n"
     ]
    }
   ],
   "source": [
    "print(restaurants.columns)"
   ]
  },
  {
   "cell_type": "code",
   "execution_count": 18,
   "metadata": {},
   "outputs": [],
   "source": [
    "#rename columns names so they make more sense, don't forget axis=1\n",
    "restaurants=restaurants.rename({'dba':'name', 'cuisine description':'cuisine'}, axis=1)"
   ]
  },
  {
   "cell_type": "code",
   "execution_count": 19,
   "metadata": {},
   "outputs": [
    {
     "name": "stdout",
     "output_type": "stream",
     "text": [
      "camis                      int64\n",
      "name                      object\n",
      "boro                      object\n",
      "building                  object\n",
      "street                    object\n",
      "zipcode                  float64\n",
      "phone                     object\n",
      "cuisine                   object\n",
      "inspection date           object\n",
      "action                    object\n",
      "violation code            object\n",
      "violation description     object\n",
      "critical flag             object\n",
      "score                    float64\n",
      "grade                     object\n",
      "grade date                object\n",
      "record date               object\n",
      "inspection type           object\n",
      "latitude                 float64\n",
      "longitude                float64\n",
      "community board          float64\n",
      "council district         float64\n",
      "census tract             float64\n",
      "bin                      float64\n",
      "bbl                      float64\n",
      "nta                       object\n",
      "dtype: object\n"
     ]
    }
   ],
   "source": [
    "print(restaurants.dtypes)"
   ]
  },
  {
   "cell_type": "code",
   "execution_count": 20,
   "metadata": {},
   "outputs": [
    {
     "data": {
      "text/plain": [
       "camis                    29648\n",
       "name                     22880\n",
       "boro                         6\n",
       "building                  7694\n",
       "street                    2466\n",
       "zipcode                    229\n",
       "phone                    27168\n",
       "cuisine                     86\n",
       "inspection date           1503\n",
       "action                       5\n",
       "violation code             106\n",
       "violation description      106\n",
       "critical flag                3\n",
       "score                      136\n",
       "grade                        7\n",
       "grade date                1329\n",
       "record date                  1\n",
       "inspection type             31\n",
       "latitude                 23501\n",
       "longitude                23501\n",
       "community board             69\n",
       "council district            51\n",
       "census tract              1188\n",
       "bin                      20345\n",
       "bbl                      19988\n",
       "nta                        193\n",
       "dtype: int64"
      ]
     },
     "execution_count": 20,
     "metadata": {},
     "output_type": "execute_result"
    }
   ],
   "source": [
    "restaurants.nunique()"
   ]
  },
  {
   "cell_type": "code",
   "execution_count": 21,
   "metadata": {},
   "outputs": [
    {
     "data": {
      "text/plain": [
       "camis                         0\n",
       "name                       1133\n",
       "boro                          0\n",
       "building                    789\n",
       "street                       34\n",
       "zipcode                    5335\n",
       "phone                        25\n",
       "cuisine                    4497\n",
       "inspection date               0\n",
       "action                     4496\n",
       "violation code             9091\n",
       "violation description      6718\n",
       "critical flag                 0\n",
       "score                     17725\n",
       "grade                    181035\n",
       "grade date               185204\n",
       "record date                   0\n",
       "inspection type            4496\n",
       "latitude                    379\n",
       "longitude                   379\n",
       "community board            6377\n",
       "council district           6377\n",
       "census tract               6377\n",
       "bin                        8058\n",
       "bbl                        1076\n",
       "nta                        6377\n",
       "dtype: int64"
      ]
     },
     "execution_count": 21,
     "metadata": {},
     "output_type": "execute_result"
    }
   ],
   "source": [
    "# to look at missing values in each column\n",
    "restaurants.isna().sum()"
   ]
  },
  {
   "cell_type": "code",
   "execution_count": 22,
   "metadata": {},
   "outputs": [
    {
     "data": {
      "text/html": [
       "<div>\n",
       "<style scoped>\n",
       "    .dataframe tbody tr th:only-of-type {\n",
       "        vertical-align: middle;\n",
       "    }\n",
       "\n",
       "    .dataframe tbody tr th {\n",
       "        vertical-align: top;\n",
       "    }\n",
       "\n",
       "    .dataframe thead th {\n",
       "        text-align: right;\n",
       "    }\n",
       "</style>\n",
       "<table border=\"1\" class=\"dataframe\">\n",
       "  <thead>\n",
       "    <tr style=\"text-align: right;\">\n",
       "      <th>no cuisine listed</th>\n",
       "      <th>False</th>\n",
       "      <th>True</th>\n",
       "    </tr>\n",
       "    <tr>\n",
       "      <th>boro</th>\n",
       "      <th></th>\n",
       "      <th></th>\n",
       "    </tr>\n",
       "  </thead>\n",
       "  <tbody>\n",
       "    <tr>\n",
       "      <th>0</th>\n",
       "      <td>100</td>\n",
       "      <td>24</td>\n",
       "    </tr>\n",
       "    <tr>\n",
       "      <th>Bronx</th>\n",
       "      <td>33365</td>\n",
       "      <td>371</td>\n",
       "    </tr>\n",
       "    <tr>\n",
       "      <th>Brooklyn</th>\n",
       "      <td>89427</td>\n",
       "      <td>1234</td>\n",
       "    </tr>\n",
       "    <tr>\n",
       "      <th>Manhattan</th>\n",
       "      <td>139006</td>\n",
       "      <td>1689</td>\n",
       "    </tr>\n",
       "    <tr>\n",
       "      <th>Queens</th>\n",
       "      <td>82513</td>\n",
       "      <td>996</td>\n",
       "    </tr>\n",
       "    <tr>\n",
       "      <th>Staten Island</th>\n",
       "      <td>11276</td>\n",
       "      <td>183</td>\n",
       "    </tr>\n",
       "  </tbody>\n",
       "</table>\n",
       "</div>"
      ],
      "text/plain": [
       "no cuisine listed   False  True \n",
       "boro                            \n",
       "0                     100     24\n",
       "Bronx               33365    371\n",
       "Brooklyn            89427   1234\n",
       "Manhattan          139006   1689\n",
       "Queens              82513    996\n",
       "Staten Island       11276    183"
      ]
     },
     "execution_count": 22,
     "metadata": {},
     "output_type": "execute_result"
    }
   ],
   "source": [
    "#crosstab() computes the frequency of two or more variables. here we will look at na in cuisine based on boro\n",
    "#returns boolean, all boros present and if the restaurant has cuisine listed\n",
    "pd.crosstab(restaurants['boro'],restaurants['cuisine'].isna(), rownames=['boro'], colnames=['no cuisine listed'])"
   ]
  },
  {
   "cell_type": "code",
   "execution_count": 23,
   "metadata": {},
   "outputs": [
    {
     "name": "stdout",
     "output_type": "stream",
     "text": [
      "     Name  Test1  Test2  Test3\n",
      "0   Annie     85     78     98\n",
      "1    John     92     86     90\n",
      "2  Min-ji     88     79     95\n",
      "3    Ravi     86     90     78\n",
      "4   Lucas     91     93     88\n"
     ]
    }
   ],
   "source": [
    "#rules of tidy data exercise\n",
    "#will execute melt function here\n",
    "#first will create a messy dataset\n",
    "\n",
    "data = pd.DataFrame({\"Name\":[\"Annie\", \"John\", \"Min-ji\", \"Ravi\", \"Lucas\"],\n",
    "                    \"Test1\": [85,92,88,86,91],\n",
    "                    \"Test2\": [78,86,79,90,93],\n",
    "                    \"Test3\": [98,90,95,78,88]})\n",
    "print(data)"
   ]
  },
  {
   "cell_type": "code",
   "execution_count": 24,
   "metadata": {},
   "outputs": [
    {
     "name": "stdout",
     "output_type": "stream",
     "text": [
      "      Name   Test  Score\n",
      "0    Annie  Test1     85\n",
      "1     John  Test1     92\n",
      "2   Min-ji  Test1     88\n",
      "3     Ravi  Test1     86\n",
      "4    Lucas  Test1     91\n",
      "5    Annie  Test2     78\n",
      "6     John  Test2     86\n",
      "7   Min-ji  Test2     79\n",
      "8     Ravi  Test2     90\n",
      "9    Lucas  Test2     93\n",
      "10   Annie  Test3     98\n",
      "11    John  Test3     90\n",
      "12  Min-ji  Test3     95\n",
      "13    Ravi  Test3     78\n",
      "14   Lucas  Test3     88\n"
     ]
    }
   ],
   "source": [
    "#now using melt to create a tidy dataset\n",
    "data=pd.melt(data, id_vars=['Name'], var_name='Test', value_name='Score')\n",
    "print(data)"
   ]
  },
  {
   "cell_type": "code",
   "execution_count": 25,
   "metadata": {},
   "outputs": [
    {
     "data": {
      "text/html": [
       "<div>\n",
       "<style scoped>\n",
       "    .dataframe tbody tr th:only-of-type {\n",
       "        vertical-align: middle;\n",
       "    }\n",
       "\n",
       "    .dataframe tbody tr th {\n",
       "        vertical-align: top;\n",
       "    }\n",
       "\n",
       "    .dataframe thead th {\n",
       "        text-align: right;\n",
       "    }\n",
       "</style>\n",
       "<table border=\"1\" class=\"dataframe\">\n",
       "  <thead>\n",
       "    <tr style=\"text-align: right;\">\n",
       "      <th></th>\n",
       "      <th>Score</th>\n",
       "    </tr>\n",
       "    <tr>\n",
       "      <th>Name</th>\n",
       "      <th></th>\n",
       "    </tr>\n",
       "  </thead>\n",
       "  <tbody>\n",
       "    <tr>\n",
       "      <th>Annie</th>\n",
       "      <td>87.000000</td>\n",
       "    </tr>\n",
       "    <tr>\n",
       "      <th>John</th>\n",
       "      <td>89.333333</td>\n",
       "    </tr>\n",
       "    <tr>\n",
       "      <th>Lucas</th>\n",
       "      <td>90.666667</td>\n",
       "    </tr>\n",
       "    <tr>\n",
       "      <th>Min-ji</th>\n",
       "      <td>87.333333</td>\n",
       "    </tr>\n",
       "    <tr>\n",
       "      <th>Ravi</th>\n",
       "      <td>84.666667</td>\n",
       "    </tr>\n",
       "  </tbody>\n",
       "</table>\n",
       "</div>"
      ],
      "text/plain": [
       "            Score\n",
       "Name             \n",
       "Annie   87.000000\n",
       "John    89.333333\n",
       "Lucas   90.666667\n",
       "Min-ji  87.333333\n",
       "Ravi    84.666667"
      ]
     },
     "execution_count": 25,
     "metadata": {},
     "output_type": "execute_result"
    }
   ],
   "source": [
    "#grouping by student to find their average score\n",
    "data.groupby(by='Name').mean()"
   ]
  },
  {
   "cell_type": "code",
   "execution_count": 26,
   "metadata": {},
   "outputs": [
    {
     "data": {
      "text/html": [
       "<div>\n",
       "<style scoped>\n",
       "    .dataframe tbody tr th:only-of-type {\n",
       "        vertical-align: middle;\n",
       "    }\n",
       "\n",
       "    .dataframe tbody tr th {\n",
       "        vertical-align: top;\n",
       "    }\n",
       "\n",
       "    .dataframe thead th {\n",
       "        text-align: right;\n",
       "    }\n",
       "</style>\n",
       "<table border=\"1\" class=\"dataframe\">\n",
       "  <thead>\n",
       "    <tr style=\"text-align: right;\">\n",
       "      <th></th>\n",
       "      <th>Score</th>\n",
       "    </tr>\n",
       "    <tr>\n",
       "      <th>Test</th>\n",
       "      <th></th>\n",
       "    </tr>\n",
       "  </thead>\n",
       "  <tbody>\n",
       "    <tr>\n",
       "      <th>Test1</th>\n",
       "      <td>88.4</td>\n",
       "    </tr>\n",
       "    <tr>\n",
       "      <th>Test2</th>\n",
       "      <td>85.2</td>\n",
       "    </tr>\n",
       "    <tr>\n",
       "      <th>Test3</th>\n",
       "      <td>89.8</td>\n",
       "    </tr>\n",
       "  </tbody>\n",
       "</table>\n",
       "</div>"
      ],
      "text/plain": [
       "       Score\n",
       "Test        \n",
       "Test1   88.4\n",
       "Test2   85.2\n",
       "Test3   89.8"
      ]
     },
     "execution_count": 26,
     "metadata": {},
     "output_type": "execute_result"
    }
   ],
   "source": [
    "#or we can group by test score\n",
    "data.groupby(by='Test').mean()"
   ]
  },
  {
   "cell_type": "code",
   "execution_count": null,
   "metadata": {},
   "outputs": [],
   "source": []
  }
 ],
 "metadata": {
  "kernelspec": {
   "display_name": "Python 3",
   "language": "python",
   "name": "python3"
  },
  "language_info": {
   "codemirror_mode": {
    "name": "ipython",
    "version": 3
   },
   "file_extension": ".py",
   "mimetype": "text/x-python",
   "name": "python",
   "nbconvert_exporter": "python",
   "pygments_lexer": "ipython3",
   "version": "3.7.6"
  }
 },
 "nbformat": 4,
 "nbformat_minor": 4
}
